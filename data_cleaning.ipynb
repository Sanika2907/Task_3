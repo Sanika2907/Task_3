{
 "cells": [
  {
   "cell_type": "code",
   "execution_count": 1,
   "id": "b9bb69c3-3742-4adc-8904-dc8ee2813d35",
   "metadata": {},
   "outputs": [],
   "source": [
    "#import liabraries\n",
    "\n",
    "import numpy as np\n",
    "import pandas as pd\n",
    "import matplotlib.pyplot as plt\n",
    "import seaborn as sns"
   ]
  },
  {
   "cell_type": "code",
   "execution_count": 3,
   "id": "260b2e38-7ea6-4106-b526-ea1475cb298f",
   "metadata": {},
   "outputs": [
    {
     "data": {
      "text/html": [
       "<div>\n",
       "<style scoped>\n",
       "    .dataframe tbody tr th:only-of-type {\n",
       "        vertical-align: middle;\n",
       "    }\n",
       "\n",
       "    .dataframe tbody tr th {\n",
       "        vertical-align: top;\n",
       "    }\n",
       "\n",
       "    .dataframe thead th {\n",
       "        text-align: right;\n",
       "    }\n",
       "</style>\n",
       "<table border=\"1\" class=\"dataframe\">\n",
       "  <thead>\n",
       "    <tr style=\"text-align: right;\">\n",
       "      <th></th>\n",
       "      <th>Name</th>\n",
       "      <th>Age</th>\n",
       "      <th>Gender</th>\n",
       "      <th>Email</th>\n",
       "      <th>Join_Date</th>\n",
       "      <th>Salary</th>\n",
       "      <th>Department</th>\n",
       "    </tr>\n",
       "  </thead>\n",
       "  <tbody>\n",
       "    <tr>\n",
       "      <th>0</th>\n",
       "      <td>Alice</td>\n",
       "      <td>NaN</td>\n",
       "      <td>NaN</td>\n",
       "      <td>user0@example.com</td>\n",
       "      <td>21-05-2021</td>\n",
       "      <td>NaN</td>\n",
       "      <td>Admin</td>\n",
       "    </tr>\n",
       "    <tr>\n",
       "      <th>1</th>\n",
       "      <td>Bob</td>\n",
       "      <td>40</td>\n",
       "      <td>M</td>\n",
       "      <td>user1@example.com</td>\n",
       "      <td>NaN</td>\n",
       "      <td>50000</td>\n",
       "      <td>Engineering</td>\n",
       "    </tr>\n",
       "    <tr>\n",
       "      <th>2</th>\n",
       "      <td>Charlie</td>\n",
       "      <td>unknown</td>\n",
       "      <td>Male</td>\n",
       "      <td>user2@example.com</td>\n",
       "      <td>01-01-2020</td>\n",
       "      <td>50000</td>\n",
       "      <td>HR</td>\n",
       "    </tr>\n",
       "    <tr>\n",
       "      <th>3</th>\n",
       "      <td>David</td>\n",
       "      <td>NaN</td>\n",
       "      <td>NaN</td>\n",
       "      <td>user3@example.com</td>\n",
       "      <td>21-05-2021</td>\n",
       "      <td>70000</td>\n",
       "      <td>Admin</td>\n",
       "    </tr>\n",
       "    <tr>\n",
       "      <th>4</th>\n",
       "      <td>Eva</td>\n",
       "      <td>35</td>\n",
       "      <td>Other</td>\n",
       "      <td>user4@example.com</td>\n",
       "      <td>July 4, 2020</td>\n",
       "      <td>70000</td>\n",
       "      <td>Engineering</td>\n",
       "    </tr>\n",
       "    <tr>\n",
       "      <th>5</th>\n",
       "      <td>Frank</td>\n",
       "      <td>unknown</td>\n",
       "      <td>Other</td>\n",
       "      <td>user5@example.com</td>\n",
       "      <td>NaN</td>\n",
       "      <td>70000</td>\n",
       "      <td>Admin</td>\n",
       "    </tr>\n",
       "    <tr>\n",
       "      <th>6</th>\n",
       "      <td>Grace</td>\n",
       "      <td>unknown</td>\n",
       "      <td>Female</td>\n",
       "      <td>user6@example.com</td>\n",
       "      <td>July 4, 2020</td>\n",
       "      <td>80000</td>\n",
       "      <td>Engineering</td>\n",
       "    </tr>\n",
       "    <tr>\n",
       "      <th>7</th>\n",
       "      <td>Hannah</td>\n",
       "      <td>NaN</td>\n",
       "      <td>Other</td>\n",
       "      <td>user7@example.com</td>\n",
       "      <td>21-05-2021</td>\n",
       "      <td>NaN</td>\n",
       "      <td>HR</td>\n",
       "    </tr>\n",
       "    <tr>\n",
       "      <th>8</th>\n",
       "      <td>Ivy</td>\n",
       "      <td>30</td>\n",
       "      <td>Female</td>\n",
       "      <td>user8@example.com</td>\n",
       "      <td>NaN</td>\n",
       "      <td>50000</td>\n",
       "      <td>Engineering</td>\n",
       "    </tr>\n",
       "    <tr>\n",
       "      <th>9</th>\n",
       "      <td>Jack</td>\n",
       "      <td>35</td>\n",
       "      <td>Male</td>\n",
       "      <td>user9@example.com</td>\n",
       "      <td>01-01-2020</td>\n",
       "      <td>80000</td>\n",
       "      <td>Engineering</td>\n",
       "    </tr>\n",
       "  </tbody>\n",
       "</table>\n",
       "</div>"
      ],
      "text/plain": [
       "      Name      Age  Gender              Email     Join_Date Salary  \\\n",
       "0    Alice      NaN     NaN  user0@example.com    21-05-2021    NaN   \n",
       "1      Bob       40       M  user1@example.com           NaN  50000   \n",
       "2  Charlie  unknown    Male  user2@example.com    01-01-2020  50000   \n",
       "3    David      NaN     NaN  user3@example.com    21-05-2021  70000   \n",
       "4      Eva       35   Other  user4@example.com  July 4, 2020  70000   \n",
       "5    Frank  unknown   Other  user5@example.com           NaN  70000   \n",
       "6    Grace  unknown  Female  user6@example.com  July 4, 2020  80000   \n",
       "7   Hannah      NaN   Other  user7@example.com    21-05-2021    NaN   \n",
       "8      Ivy       30  Female  user8@example.com           NaN  50000   \n",
       "9     Jack       35    Male  user9@example.com    01-01-2020  80000   \n",
       "\n",
       "    Department  \n",
       "0        Admin  \n",
       "1  Engineering  \n",
       "2           HR  \n",
       "3        Admin  \n",
       "4  Engineering  \n",
       "5        Admin  \n",
       "6  Engineering  \n",
       "7           HR  \n",
       "8  Engineering  \n",
       "9  Engineering  "
      ]
     },
     "execution_count": 3,
     "metadata": {},
     "output_type": "execute_result"
    }
   ],
   "source": [
    "# import dataset\n",
    "ds=pd.read_csv(\"raw_messy_dataset.csv\")\n",
    "ds.head(10)"
   ]
  },
  {
   "cell_type": "code",
   "execution_count": 18,
   "id": "14a9812f-e0f7-4067-83fe-fb225776ef4e",
   "metadata": {},
   "outputs": [
    {
     "name": "stdout",
     "output_type": "stream",
     "text": [
      "<class 'pandas.core.frame.DataFrame'>\n",
      "Index: 100 entries, 0 to 99\n",
      "Data columns (total 7 columns):\n",
      " #   Column      Non-Null Count  Dtype \n",
      "---  ------      --------------  ----- \n",
      " 0   Name        100 non-null    object\n",
      " 1   Age         69 non-null     object\n",
      " 2   Gender      86 non-null     object\n",
      " 3   Email       90 non-null     object\n",
      " 4   Join_Date   66 non-null     object\n",
      " 5   Salary      74 non-null     object\n",
      " 6   Department  84 non-null     object\n",
      "dtypes: object(7)\n",
      "memory usage: 6.2+ KB\n"
     ]
    }
   ],
   "source": [
    "ds.info()"
   ]
  },
  {
   "cell_type": "code",
   "execution_count": 5,
   "id": "1146559b-03f1-4d01-9107-085825cf14c2",
   "metadata": {},
   "outputs": [
    {
     "data": {
      "text/html": [
       "<div>\n",
       "<style scoped>\n",
       "    .dataframe tbody tr th:only-of-type {\n",
       "        vertical-align: middle;\n",
       "    }\n",
       "\n",
       "    .dataframe tbody tr th {\n",
       "        vertical-align: top;\n",
       "    }\n",
       "\n",
       "    .dataframe thead th {\n",
       "        text-align: right;\n",
       "    }\n",
       "</style>\n",
       "<table border=\"1\" class=\"dataframe\">\n",
       "  <thead>\n",
       "    <tr style=\"text-align: right;\">\n",
       "      <th></th>\n",
       "      <th>Name</th>\n",
       "      <th>Age</th>\n",
       "      <th>Gender</th>\n",
       "      <th>Email</th>\n",
       "      <th>Join_Date</th>\n",
       "      <th>Salary</th>\n",
       "      <th>Department</th>\n",
       "    </tr>\n",
       "  </thead>\n",
       "  <tbody>\n",
       "    <tr>\n",
       "      <th>count</th>\n",
       "      <td>105</td>\n",
       "      <td>72</td>\n",
       "      <td>89</td>\n",
       "      <td>95</td>\n",
       "      <td>70</td>\n",
       "      <td>78</td>\n",
       "      <td>89</td>\n",
       "    </tr>\n",
       "    <tr>\n",
       "      <th>unique</th>\n",
       "      <td>10</td>\n",
       "      <td>5</td>\n",
       "      <td>5</td>\n",
       "      <td>90</td>\n",
       "      <td>4</td>\n",
       "      <td>5</td>\n",
       "      <td>5</td>\n",
       "    </tr>\n",
       "    <tr>\n",
       "      <th>top</th>\n",
       "      <td>Alice</td>\n",
       "      <td>40</td>\n",
       "      <td>Male</td>\n",
       "      <td>user0@example.com</td>\n",
       "      <td>21-05-2021</td>\n",
       "      <td>50000</td>\n",
       "      <td>Engineering</td>\n",
       "    </tr>\n",
       "    <tr>\n",
       "      <th>freq</th>\n",
       "      <td>11</td>\n",
       "      <td>22</td>\n",
       "      <td>22</td>\n",
       "      <td>2</td>\n",
       "      <td>26</td>\n",
       "      <td>22</td>\n",
       "      <td>26</td>\n",
       "    </tr>\n",
       "  </tbody>\n",
       "</table>\n",
       "</div>"
      ],
      "text/plain": [
       "         Name Age Gender              Email   Join_Date Salary   Department\n",
       "count     105  72     89                 95          70     78           89\n",
       "unique     10   5      5                 90           4      5            5\n",
       "top     Alice  40   Male  user0@example.com  21-05-2021  50000  Engineering\n",
       "freq       11  22     22                  2          26     22           26"
      ]
     },
     "execution_count": 5,
     "metadata": {},
     "output_type": "execute_result"
    }
   ],
   "source": [
    "ds.describe()#display information"
   ]
  },
  {
   "cell_type": "code",
   "execution_count": 11,
   "id": "0220cc7e-3783-479d-bb55-ab35df1fe6f0",
   "metadata": {},
   "outputs": [
    {
     "data": {
      "text/plain": [
       "np.int64(0)"
      ]
     },
     "execution_count": 11,
     "metadata": {},
     "output_type": "execute_result"
    }
   ],
   "source": [
    "#searching for duplicates\n",
    "ds.duplicated().sum()#sum are used to count"
   ]
  },
  {
   "cell_type": "code",
   "execution_count": 13,
   "id": "62c4863f-15c6-48e1-9a4e-4fc2d324835d",
   "metadata": {},
   "outputs": [],
   "source": [
    "# Remove duplicates\n",
    "ds.drop_duplicates(inplace=True)"
   ]
  },
  {
   "cell_type": "code",
   "execution_count": 16,
   "id": "e92f17d7-22b0-4adf-b6eb-da87e984c586",
   "metadata": {},
   "outputs": [
    {
     "data": {
      "text/plain": [
       "Index(['Name', 'Age', 'Gender', 'Email', 'Join_Date', 'Salary', 'Department'], dtype='object')"
      ]
     },
     "execution_count": 16,
     "metadata": {},
     "output_type": "execute_result"
    }
   ],
   "source": [
    "ds.columns#to get columns name only"
   ]
  },
  {
   "cell_type": "code",
   "execution_count": 21,
   "id": "c0d53235-3121-4278-bbcb-627788cdd131",
   "metadata": {},
   "outputs": [],
   "source": [
    "#Handing Age\n",
    "ds[\"Age\"] = pd.to_numeric(ds[\"Age\"],errors='coerce')"
   ]
  },
  {
   "cell_type": "code",
   "execution_count": 22,
   "id": "9195f380-46ec-4f23-954e-20a4a85ebf28",
   "metadata": {},
   "outputs": [
    {
     "name": "stdout",
     "output_type": "stream",
     "text": [
      "<class 'pandas.core.frame.DataFrame'>\n",
      "Index: 100 entries, 0 to 99\n",
      "Data columns (total 7 columns):\n",
      " #   Column      Non-Null Count  Dtype  \n",
      "---  ------      --------------  -----  \n",
      " 0   Name        100 non-null    object \n",
      " 1   Age         57 non-null     float64\n",
      " 2   Gender      86 non-null     object \n",
      " 3   Email       90 non-null     object \n",
      " 4   Join_Date   66 non-null     object \n",
      " 5   Salary      74 non-null     object \n",
      " 6   Department  84 non-null     object \n",
      "dtypes: float64(1), object(6)\n",
      "memory usage: 6.2+ KB\n"
     ]
    }
   ],
   "source": [
    "ds.info()"
   ]
  },
  {
   "cell_type": "code",
   "execution_count": 25,
   "id": "f22b6ce3-1729-4de0-8c58-9b2547b84b45",
   "metadata": {},
   "outputs": [
    {
     "data": {
      "text/plain": [
       "array([35., 40., 30., 25.])"
      ]
     },
     "execution_count": 25,
     "metadata": {},
     "output_type": "execute_result"
    }
   ],
   "source": [
    "ds[\"Age\"].unique()"
   ]
  },
  {
   "cell_type": "code",
   "execution_count": 23,
   "id": "5aed1e07-db05-4fb0-b9b2-f64f24f8e93e",
   "metadata": {},
   "outputs": [
    {
     "name": "stderr",
     "output_type": "stream",
     "text": [
      "C:\\Users\\Sanavi\\AppData\\Local\\Temp\\ipykernel_21144\\4230202996.py:2: FutureWarning: A value is trying to be set on a copy of a DataFrame or Series through chained assignment using an inplace method.\n",
      "The behavior will change in pandas 3.0. This inplace method will never work because the intermediate object on which we are setting values always behaves as a copy.\n",
      "\n",
      "For example, when doing 'df[col].method(value, inplace=True)', try using 'df.method({col: value}, inplace=True)' or df[col] = df[col].method(value) instead, to perform the operation inplace on the original object.\n",
      "\n",
      "\n",
      "  ds[\"Age\"].fillna(x,inplace=True)\n"
     ]
    }
   ],
   "source": [
    "#To find missing values\n",
    "x=ds[\"Age\"].median()\n",
    "ds[\"Age\"].fillna(x,inplace=True)"
   ]
  },
  {
   "cell_type": "code",
   "execution_count": 24,
   "id": "83bdf498-b79c-4f1e-9961-f2a6fdf443d1",
   "metadata": {},
   "outputs": [
    {
     "name": "stdout",
     "output_type": "stream",
     "text": [
      "<class 'pandas.core.frame.DataFrame'>\n",
      "Index: 100 entries, 0 to 99\n",
      "Data columns (total 7 columns):\n",
      " #   Column      Non-Null Count  Dtype  \n",
      "---  ------      --------------  -----  \n",
      " 0   Name        100 non-null    object \n",
      " 1   Age         100 non-null    float64\n",
      " 2   Gender      86 non-null     object \n",
      " 3   Email       90 non-null     object \n",
      " 4   Join_Date   66 non-null     object \n",
      " 5   Salary      74 non-null     object \n",
      " 6   Department  84 non-null     object \n",
      "dtypes: float64(1), object(6)\n",
      "memory usage: 6.2+ KB\n"
     ]
    }
   ],
   "source": [
    "ds.info()"
   ]
  },
  {
   "cell_type": "code",
   "execution_count": 29,
   "id": "df838d18-4963-491a-a83b-b1230ba37cdf",
   "metadata": {},
   "outputs": [
    {
     "data": {
      "text/plain": [
       "array([nan, 'Male', 'Other', 'Female'], dtype=object)"
      ]
     },
     "execution_count": 29,
     "metadata": {},
     "output_type": "execute_result"
    }
   ],
   "source": [
    "ds[\"Gender\"].unique()"
   ]
  },
  {
   "cell_type": "code",
   "execution_count": 27,
   "id": "365ca8b1-b1cf-445a-b2db-bf9870748571",
   "metadata": {},
   "outputs": [],
   "source": [
    "#Standerdized Gender\n",
    "ds[\"Gender\"]=ds[\"Gender\"].replace({\n",
    "    \"M\":\"Male\",\"F\":\"Female\",\"\":\"None\"\n",
    "})"
   ]
  },
  {
   "cell_type": "code",
   "execution_count": 28,
   "id": "e060e166-12fb-428f-b7b6-b7ed7c6c3101",
   "metadata": {},
   "outputs": [
    {
     "name": "stdout",
     "output_type": "stream",
     "text": [
      "<class 'pandas.core.frame.DataFrame'>\n",
      "Index: 100 entries, 0 to 99\n",
      "Data columns (total 7 columns):\n",
      " #   Column      Non-Null Count  Dtype  \n",
      "---  ------      --------------  -----  \n",
      " 0   Name        100 non-null    object \n",
      " 1   Age         100 non-null    float64\n",
      " 2   Gender      86 non-null     object \n",
      " 3   Email       90 non-null     object \n",
      " 4   Join_Date   66 non-null     object \n",
      " 5   Salary      74 non-null     object \n",
      " 6   Department  84 non-null     object \n",
      "dtypes: float64(1), object(6)\n",
      "memory usage: 6.2+ KB\n"
     ]
    }
   ],
   "source": [
    "ds.info()"
   ]
  },
  {
   "cell_type": "code",
   "execution_count": 31,
   "id": "079f6bb1-620a-4ee1-aca7-d22ee6288265",
   "metadata": {},
   "outputs": [
    {
     "name": "stdout",
     "output_type": "stream",
     "text": [
      "<class 'pandas.core.frame.DataFrame'>\n",
      "Index: 100 entries, 0 to 99\n",
      "Data columns (total 7 columns):\n",
      " #   Column      Non-Null Count  Dtype  \n",
      "---  ------      --------------  -----  \n",
      " 0   Name        100 non-null    object \n",
      " 1   Age         100 non-null    float64\n",
      " 2   Gender      86 non-null     object \n",
      " 3   Email       100 non-null    object \n",
      " 4   Join_Date   66 non-null     object \n",
      " 5   Salary      74 non-null     object \n",
      " 6   Department  84 non-null     object \n",
      "dtypes: float64(1), object(6)\n",
      "memory usage: 6.2+ KB\n"
     ]
    }
   ],
   "source": [
    "#Handling Email column\n",
    "ds[\"Email\"].fillna(\"-\",inplace=True)\n"
   ]
  },
  {
   "cell_type": "code",
   "execution_count": 32,
   "id": "efe4465a-3ee1-4b36-b66b-6ba730a4833d",
   "metadata": {},
   "outputs": [
    {
     "name": "stdout",
     "output_type": "stream",
     "text": [
      "       Name   Age  Gender               Email     Join_Date   Salary   Department\n",
      "0     Alice  35.0     NaN   user0@example.com    21-05-2021      NaN        Admin\n",
      "1       Bob  40.0    Male   user1@example.com           NaN    50000  Engineering\n",
      "2   Charlie  35.0    Male   user2@example.com    01-01-2020    50000           HR\n",
      "3     David  35.0     NaN   user3@example.com    21-05-2021    70000        Admin\n",
      "4       Eva  35.0   Other   user4@example.com  July 4, 2020    70000  Engineering\n",
      "5     Frank  35.0   Other   user5@example.com           NaN    70000        Admin\n",
      "6     Grace  35.0  Female   user6@example.com  July 4, 2020    80000  Engineering\n",
      "7    Hannah  35.0   Other   user7@example.com    21-05-2021      NaN           HR\n",
      "8       Ivy  30.0  Female   user8@example.com           NaN    50000  Engineering\n",
      "9      Jack  35.0    Male   user9@example.com    01-01-2020    80000  Engineering\n",
      "10    Alice  35.0    Male  user10@example.com    21-05-2021    70000  Engineering\n",
      "11      Bob  35.0    Male  user11@example.com  July 4, 2020    50000        Sales\n",
      "12  Charlie  35.0    Male  user12@example.com    22-06-2022    80000        Sales\n",
      "13    David  35.0   Other  user13@example.com           NaN      NaN        Sales\n",
      "14      Eva  40.0    Male  user14@example.com  July 4, 2020    80000           HR\n",
      "15    Frank  35.0   Other  user15@example.com           NaN      NaN        Admin\n",
      "16    Grace  35.0   Other  user16@example.com    21-05-2021    70000          NaN\n",
      "17   Hannah  35.0    Male  user17@example.com           NaN      NaN  Engineering\n",
      "18      Ivy  30.0    Male  user18@example.com    21-05-2021    50000  Engineering\n",
      "19     Jack  40.0    Male  user19@example.com           NaN    70000           HR\n",
      "20    Alice  35.0    Male  user20@example.com    21-05-2021    50000  Engineering\n",
      "21      Bob  35.0    Male  user21@example.com    22-06-2022  unknown        Sales\n",
      "22  Charlie  30.0  Female  user22@example.com           NaN    60000          NaN\n",
      "23    David  40.0  Female  user23@example.com           NaN      NaN    Marketing\n",
      "24      Eva  35.0    Male  user24@example.com           NaN    60000  Engineering\n",
      "25    Frank  25.0  Female  user25@example.com    22-06-2022    60000        Sales\n",
      "26    Grace  40.0  Female  user26@example.com  July 4, 2020      NaN    Marketing\n",
      "27   Hannah  30.0    Male  user27@example.com    21-05-2021    70000          NaN\n",
      "28      Ivy  35.0  Female  user28@example.com    01-01-2020  unknown    Marketing\n",
      "29     Jack  35.0   Other  user29@example.com    21-05-2021    50000        Sales\n",
      "30    Alice  40.0  Female  user30@example.com    21-05-2021    80000        Admin\n",
      "31      Bob  25.0  Female  user31@example.com  July 4, 2020    50000        Admin\n",
      "32  Charlie  25.0    Male  user32@example.com    21-05-2021    80000    Marketing\n",
      "33    David  35.0    Male  user33@example.com    22-06-2022    50000           HR\n",
      "34      Eva  35.0    Male  user34@example.com    22-06-2022      NaN    Marketing\n",
      "35    Frank  35.0    Male  user35@example.com           NaN  unknown  Engineering\n",
      "36    Grace  30.0  Female  user36@example.com           NaN    80000  Engineering\n",
      "37   Hannah  40.0    Male  user37@example.com    01-01-2020      NaN        Admin\n",
      "38      Ivy  40.0     NaN  user38@example.com    21-05-2021    70000           HR\n",
      "39     Jack  35.0   Other  user39@example.com    21-05-2021    50000        Sales\n",
      "40    Alice  35.0  Female  user40@example.com  July 4, 2020    50000  Engineering\n",
      "41      Bob  35.0    Male  user41@example.com           NaN    80000        Admin\n",
      "42  Charlie  35.0     NaN  user42@example.com    22-06-2022    70000          NaN\n",
      "43    David  35.0  Female  user43@example.com    01-01-2020    70000        Admin\n",
      "44      Eva  35.0  Female  user44@example.com           NaN      NaN  Engineering\n",
      "45    Frank  40.0    Male  user45@example.com    22-06-2022      NaN  Engineering\n",
      "46    Grace  35.0  Female  user46@example.com           NaN      NaN        Admin\n",
      "47   Hannah  40.0   Other  user47@example.com           NaN      NaN        Sales\n",
      "48      Ivy  25.0     NaN  user48@example.com  July 4, 2020      NaN    Marketing\n",
      "49     Jack  35.0  Female  user49@example.com  July 4, 2020      NaN  Engineering\n",
      "50    Alice  35.0    Male  user50@example.com    21-05-2021      NaN        Admin\n",
      "51      Bob  35.0   Other  user51@example.com           NaN  unknown        Admin\n",
      "52  Charlie  35.0  Female  user52@example.com    01-01-2020    70000           HR\n",
      "53    David  35.0     NaN  user53@example.com           NaN      NaN    Marketing\n",
      "54      Eva  25.0  Female  user54@example.com    22-06-2022    70000          NaN\n",
      "55    Frank  35.0    Male  user55@example.com           NaN    70000        Sales\n",
      "56    Grace  30.0  Female  user56@example.com           NaN    60000          NaN\n",
      "57   Hannah  40.0  Female  user57@example.com  July 4, 2020  unknown    Marketing\n",
      "58      Ivy  25.0    Male  user58@example.com    21-05-2021      NaN    Marketing\n",
      "59     Jack  40.0   Other  user59@example.com    21-05-2021    50000    Marketing\n",
      "60    Alice  35.0  Female  user60@example.com           NaN    80000          NaN\n",
      "61      Bob  30.0    Male  user61@example.com  July 4, 2020      NaN    Marketing\n",
      "62  Charlie  30.0    Male  user62@example.com           NaN    50000        Admin\n",
      "63    David  25.0   Other  user63@example.com    01-01-2020  unknown          NaN\n",
      "64      Eva  30.0    Male  user64@example.com  July 4, 2020    80000    Marketing\n",
      "65    Frank  35.0     NaN  user65@example.com           NaN  unknown        Admin\n",
      "66    Grace  30.0   Other  user66@example.com           NaN    70000           HR\n",
      "67   Hannah  40.0   Other  user67@example.com  July 4, 2020    80000    Marketing\n",
      "68      Ivy  40.0  Female  user68@example.com           NaN    70000          NaN\n",
      "69     Jack  35.0   Other  user69@example.com  July 4, 2020    50000  Engineering\n",
      "70    Alice  40.0    Male  user70@example.com    22-06-2022    50000    Marketing\n",
      "71      Bob  35.0   Other  user71@example.com  July 4, 2020    80000  Engineering\n",
      "72  Charlie  40.0  Female  user72@example.com  July 4, 2020    80000        Admin\n",
      "73    David  35.0  Female  user73@example.com           NaN      NaN           HR\n",
      "74      Eva  35.0     NaN  user74@example.com           NaN  unknown        Sales\n",
      "75    Frank  35.0    Male  user75@example.com    21-05-2021      NaN           HR\n",
      "76    Grace  35.0  Female  user76@example.com    21-05-2021  unknown    Marketing\n",
      "77   Hannah  25.0  Female  user77@example.com    22-06-2022      NaN  Engineering\n",
      "78      Ivy  40.0   Other  user78@example.com    21-05-2021    70000  Engineering\n",
      "79     Jack  30.0     NaN  user79@example.com  July 4, 2020    80000          NaN\n",
      "80    Alice  40.0    Male  user80@example.com           NaN    50000  Engineering\n",
      "81      Bob  30.0   Other  user81@example.com    21-05-2021  unknown          NaN\n",
      "82  Charlie  35.0     NaN  user82@example.com    21-05-2021  unknown        Admin\n",
      "83    David  35.0    Male  user83@example.com    22-06-2022    50000        Sales\n",
      "84      Eva  35.0    Male  user84@example.com           NaN      NaN    Marketing\n",
      "85    Frank  30.0    Male  user85@example.com    22-06-2022  unknown          NaN\n",
      "86    Grace  40.0    Male  user86@example.com  July 4, 2020      NaN        Sales\n",
      "87   Hannah  35.0    Male  user87@example.com           NaN    70000  Engineering\n",
      "88      Ivy  35.0     NaN  user88@example.com    22-06-2022    80000  Engineering\n",
      "89     Jack  35.0     NaN  user89@example.com    21-05-2021    50000        Sales\n",
      "90    Alice  30.0  Female                   -           NaN    80000  Engineering\n",
      "91      Bob  30.0  Female                   -           NaN      NaN        Admin\n",
      "92  Charlie  40.0    Male                   -    21-05-2021  unknown        Admin\n",
      "93    David  30.0    Male                   -    22-06-2022  unknown        Sales\n",
      "94      Eva  30.0     NaN                   -    21-05-2021      NaN          NaN\n",
      "95    Frank  35.0    Male                   -           NaN    50000          NaN\n",
      "96    Grace  40.0    Male                   -           NaN    70000        Sales\n",
      "97   Hannah  35.0    Male                   -    01-01-2020    60000          NaN\n",
      "98      Ivy  35.0  Female                   -    01-01-2020    50000          NaN\n",
      "99     Jack  35.0     NaN                   -  July 4, 2020    60000        Admin\n"
     ]
    }
   ],
   "source": [
    "print(ds.to_string())"
   ]
  },
  {
   "cell_type": "code",
   "execution_count": 34,
   "id": "b59e730f-b8a4-44ec-92c9-57e1b3dea06d",
   "metadata": {},
   "outputs": [
    {
     "name": "stderr",
     "output_type": "stream",
     "text": [
      "C:\\Users\\Sanavi\\AppData\\Local\\Temp\\ipykernel_21144\\1572494690.py:2: UserWarning: Parsing dates in %d-%m-%Y format when dayfirst=False (the default) was specified. Pass `dayfirst=True` or specify a format to silence this warning.\n",
      "  ds[\"Join_Date\"]=pd.to_datetime(ds[\"Join_Date\"],errors='coerce')\n"
     ]
    }
   ],
   "source": [
    "#Handing date column\n",
    "ds[\"Join_Date\"]=pd.to_datetime(ds[\"Join_Date\"],errors='coerce')"
   ]
  },
  {
   "cell_type": "code",
   "execution_count": 35,
   "id": "fc4ca49c-7fc0-4f21-9f0c-deedc45e07bf",
   "metadata": {},
   "outputs": [
    {
     "name": "stdout",
     "output_type": "stream",
     "text": [
      "<class 'pandas.core.frame.DataFrame'>\n",
      "Index: 100 entries, 0 to 99\n",
      "Data columns (total 7 columns):\n",
      " #   Column      Non-Null Count  Dtype         \n",
      "---  ------      --------------  -----         \n",
      " 0   Name        100 non-null    object        \n",
      " 1   Age         100 non-null    float64       \n",
      " 2   Gender      86 non-null     object        \n",
      " 3   Email       100 non-null    object        \n",
      " 4   Join_Date   47 non-null     datetime64[ns]\n",
      " 5   Salary      74 non-null     object        \n",
      " 6   Department  84 non-null     object        \n",
      "dtypes: datetime64[ns](1), float64(1), object(5)\n",
      "memory usage: 6.2+ KB\n"
     ]
    }
   ],
   "source": [
    "ds.info()"
   ]
  },
  {
   "cell_type": "code",
   "execution_count": 36,
   "id": "3ffef43b-6277-47a3-93c0-cc0edb4fd199",
   "metadata": {},
   "outputs": [],
   "source": [
    "#Handing salary column\n",
    "ds[\"Salary\"]=pd.to_numeric(ds[\"Salary\"],errors='coerce')"
   ]
  },
  {
   "cell_type": "code",
   "execution_count": 37,
   "id": "91fd3989-f313-443a-9221-8633bd6ceb0f",
   "metadata": {},
   "outputs": [
    {
     "name": "stdout",
     "output_type": "stream",
     "text": [
      "<class 'pandas.core.frame.DataFrame'>\n",
      "Index: 100 entries, 0 to 99\n",
      "Data columns (total 7 columns):\n",
      " #   Column      Non-Null Count  Dtype         \n",
      "---  ------      --------------  -----         \n",
      " 0   Name        100 non-null    object        \n",
      " 1   Age         100 non-null    float64       \n",
      " 2   Gender      86 non-null     object        \n",
      " 3   Email       100 non-null    object        \n",
      " 4   Join_Date   47 non-null     datetime64[ns]\n",
      " 5   Salary      60 non-null     float64       \n",
      " 6   Department  84 non-null     object        \n",
      "dtypes: datetime64[ns](1), float64(2), object(4)\n",
      "memory usage: 6.2+ KB\n"
     ]
    }
   ],
   "source": [
    "ds.info()"
   ]
  },
  {
   "cell_type": "code",
   "execution_count": 39,
   "id": "8f690506-2144-419e-ad09-67b9d6f83414",
   "metadata": {},
   "outputs": [
    {
     "data": {
      "text/plain": [
       "array(['Admin', 'Engineering', 'HR', 'Sales', nan, 'Marketing'],\n",
       "      dtype=object)"
      ]
     },
     "execution_count": 39,
     "metadata": {},
     "output_type": "execute_result"
    }
   ],
   "source": [
    "ds[\"Department\"].unique()"
   ]
  },
  {
   "cell_type": "code",
   "execution_count": 41,
   "id": "c50937c2-2fca-4ba2-bc4c-93878498522d",
   "metadata": {},
   "outputs": [
    {
     "name": "stdout",
     "output_type": "stream",
     "text": [
      "Engineering\n"
     ]
    }
   ],
   "source": [
    "#mode of column department\n",
    "y=ds[\"Department\"].mode()[0]\n",
    "print(y)"
   ]
  },
  {
   "cell_type": "code",
   "execution_count": 42,
   "id": "33628af3-8da5-4905-be7b-6914edef6b74",
   "metadata": {},
   "outputs": [
    {
     "name": "stderr",
     "output_type": "stream",
     "text": [
      "C:\\Users\\Sanavi\\AppData\\Local\\Temp\\ipykernel_21144\\1822586255.py:3: FutureWarning: A value is trying to be set on a copy of a DataFrame or Series through chained assignment using an inplace method.\n",
      "The behavior will change in pandas 3.0. This inplace method will never work because the intermediate object on which we are setting values always behaves as a copy.\n",
      "\n",
      "For example, when doing 'df[col].method(value, inplace=True)', try using 'df.method({col: value}, inplace=True)' or df[col] = df[col].method(value) instead, to perform the operation inplace on the original object.\n",
      "\n",
      "\n",
      "  ds[\"Department\"].fillna(y,inplace=True)\n"
     ]
    }
   ],
   "source": [
    "#fill empty cell in department\n",
    "y=ds[\"Department\"].mode()[0]\n",
    "ds[\"Department\"].fillna(y,inplace=True)"
   ]
  },
  {
   "cell_type": "code",
   "execution_count": 43,
   "id": "c81cf2ac-8292-47a9-80f0-68e44461d3dc",
   "metadata": {},
   "outputs": [
    {
     "name": "stdout",
     "output_type": "stream",
     "text": [
      "<class 'pandas.core.frame.DataFrame'>\n",
      "Index: 100 entries, 0 to 99\n",
      "Data columns (total 7 columns):\n",
      " #   Column      Non-Null Count  Dtype         \n",
      "---  ------      --------------  -----         \n",
      " 0   Name        100 non-null    object        \n",
      " 1   Age         100 non-null    float64       \n",
      " 2   Gender      86 non-null     object        \n",
      " 3   Email       100 non-null    object        \n",
      " 4   Join_Date   47 non-null     datetime64[ns]\n",
      " 5   Salary      60 non-null     float64       \n",
      " 6   Department  100 non-null    object        \n",
      "dtypes: datetime64[ns](1), float64(2), object(4)\n",
      "memory usage: 6.2+ KB\n"
     ]
    }
   ],
   "source": [
    "ds.info()"
   ]
  },
  {
   "cell_type": "code",
   "execution_count": 44,
   "id": "2ff24f46-b2bf-495a-aaf2-b26e1168641c",
   "metadata": {},
   "outputs": [
    {
     "name": "stdout",
     "output_type": "stream",
     "text": [
      "       Name   Age  Gender               Email  Join_Date   Salary   Department\n",
      "0     Alice  35.0     NaN   user0@example.com 2021-05-21      NaN        Admin\n",
      "1       Bob  40.0    Male   user1@example.com        NaT  50000.0  Engineering\n",
      "2   Charlie  35.0    Male   user2@example.com 2020-01-01  50000.0           HR\n",
      "3     David  35.0     NaN   user3@example.com 2021-05-21  70000.0        Admin\n",
      "4       Eva  35.0   Other   user4@example.com        NaT  70000.0  Engineering\n",
      "5     Frank  35.0   Other   user5@example.com        NaT  70000.0        Admin\n",
      "6     Grace  35.0  Female   user6@example.com        NaT  80000.0  Engineering\n",
      "7    Hannah  35.0   Other   user7@example.com 2021-05-21      NaN           HR\n",
      "8       Ivy  30.0  Female   user8@example.com        NaT  50000.0  Engineering\n",
      "9      Jack  35.0    Male   user9@example.com 2020-01-01  80000.0  Engineering\n",
      "10    Alice  35.0    Male  user10@example.com 2021-05-21  70000.0  Engineering\n",
      "11      Bob  35.0    Male  user11@example.com        NaT  50000.0        Sales\n",
      "12  Charlie  35.0    Male  user12@example.com 2022-06-22  80000.0        Sales\n",
      "13    David  35.0   Other  user13@example.com        NaT      NaN        Sales\n",
      "14      Eva  40.0    Male  user14@example.com        NaT  80000.0           HR\n",
      "15    Frank  35.0   Other  user15@example.com        NaT      NaN        Admin\n",
      "16    Grace  35.0   Other  user16@example.com 2021-05-21  70000.0  Engineering\n",
      "17   Hannah  35.0    Male  user17@example.com        NaT      NaN  Engineering\n",
      "18      Ivy  30.0    Male  user18@example.com 2021-05-21  50000.0  Engineering\n",
      "19     Jack  40.0    Male  user19@example.com        NaT  70000.0           HR\n",
      "20    Alice  35.0    Male  user20@example.com 2021-05-21  50000.0  Engineering\n",
      "21      Bob  35.0    Male  user21@example.com 2022-06-22      NaN        Sales\n",
      "22  Charlie  30.0  Female  user22@example.com        NaT  60000.0  Engineering\n",
      "23    David  40.0  Female  user23@example.com        NaT      NaN    Marketing\n",
      "24      Eva  35.0    Male  user24@example.com        NaT  60000.0  Engineering\n",
      "25    Frank  25.0  Female  user25@example.com 2022-06-22  60000.0        Sales\n",
      "26    Grace  40.0  Female  user26@example.com        NaT      NaN    Marketing\n",
      "27   Hannah  30.0    Male  user27@example.com 2021-05-21  70000.0  Engineering\n",
      "28      Ivy  35.0  Female  user28@example.com 2020-01-01      NaN    Marketing\n",
      "29     Jack  35.0   Other  user29@example.com 2021-05-21  50000.0        Sales\n",
      "30    Alice  40.0  Female  user30@example.com 2021-05-21  80000.0        Admin\n",
      "31      Bob  25.0  Female  user31@example.com        NaT  50000.0        Admin\n",
      "32  Charlie  25.0    Male  user32@example.com 2021-05-21  80000.0    Marketing\n",
      "33    David  35.0    Male  user33@example.com 2022-06-22  50000.0           HR\n",
      "34      Eva  35.0    Male  user34@example.com 2022-06-22      NaN    Marketing\n",
      "35    Frank  35.0    Male  user35@example.com        NaT      NaN  Engineering\n",
      "36    Grace  30.0  Female  user36@example.com        NaT  80000.0  Engineering\n",
      "37   Hannah  40.0    Male  user37@example.com 2020-01-01      NaN        Admin\n",
      "38      Ivy  40.0     NaN  user38@example.com 2021-05-21  70000.0           HR\n",
      "39     Jack  35.0   Other  user39@example.com 2021-05-21  50000.0        Sales\n",
      "40    Alice  35.0  Female  user40@example.com        NaT  50000.0  Engineering\n",
      "41      Bob  35.0    Male  user41@example.com        NaT  80000.0        Admin\n",
      "42  Charlie  35.0     NaN  user42@example.com 2022-06-22  70000.0  Engineering\n",
      "43    David  35.0  Female  user43@example.com 2020-01-01  70000.0        Admin\n",
      "44      Eva  35.0  Female  user44@example.com        NaT      NaN  Engineering\n",
      "45    Frank  40.0    Male  user45@example.com 2022-06-22      NaN  Engineering\n",
      "46    Grace  35.0  Female  user46@example.com        NaT      NaN        Admin\n",
      "47   Hannah  40.0   Other  user47@example.com        NaT      NaN        Sales\n",
      "48      Ivy  25.0     NaN  user48@example.com        NaT      NaN    Marketing\n",
      "49     Jack  35.0  Female  user49@example.com        NaT      NaN  Engineering\n",
      "50    Alice  35.0    Male  user50@example.com 2021-05-21      NaN        Admin\n",
      "51      Bob  35.0   Other  user51@example.com        NaT      NaN        Admin\n",
      "52  Charlie  35.0  Female  user52@example.com 2020-01-01  70000.0           HR\n",
      "53    David  35.0     NaN  user53@example.com        NaT      NaN    Marketing\n",
      "54      Eva  25.0  Female  user54@example.com 2022-06-22  70000.0  Engineering\n",
      "55    Frank  35.0    Male  user55@example.com        NaT  70000.0        Sales\n",
      "56    Grace  30.0  Female  user56@example.com        NaT  60000.0  Engineering\n",
      "57   Hannah  40.0  Female  user57@example.com        NaT      NaN    Marketing\n",
      "58      Ivy  25.0    Male  user58@example.com 2021-05-21      NaN    Marketing\n",
      "59     Jack  40.0   Other  user59@example.com 2021-05-21  50000.0    Marketing\n",
      "60    Alice  35.0  Female  user60@example.com        NaT  80000.0  Engineering\n",
      "61      Bob  30.0    Male  user61@example.com        NaT      NaN    Marketing\n",
      "62  Charlie  30.0    Male  user62@example.com        NaT  50000.0        Admin\n",
      "63    David  25.0   Other  user63@example.com 2020-01-01      NaN  Engineering\n",
      "64      Eva  30.0    Male  user64@example.com        NaT  80000.0    Marketing\n",
      "65    Frank  35.0     NaN  user65@example.com        NaT      NaN        Admin\n",
      "66    Grace  30.0   Other  user66@example.com        NaT  70000.0           HR\n",
      "67   Hannah  40.0   Other  user67@example.com        NaT  80000.0    Marketing\n",
      "68      Ivy  40.0  Female  user68@example.com        NaT  70000.0  Engineering\n",
      "69     Jack  35.0   Other  user69@example.com        NaT  50000.0  Engineering\n",
      "70    Alice  40.0    Male  user70@example.com 2022-06-22  50000.0    Marketing\n",
      "71      Bob  35.0   Other  user71@example.com        NaT  80000.0  Engineering\n",
      "72  Charlie  40.0  Female  user72@example.com        NaT  80000.0        Admin\n",
      "73    David  35.0  Female  user73@example.com        NaT      NaN           HR\n",
      "74      Eva  35.0     NaN  user74@example.com        NaT      NaN        Sales\n",
      "75    Frank  35.0    Male  user75@example.com 2021-05-21      NaN           HR\n",
      "76    Grace  35.0  Female  user76@example.com 2021-05-21      NaN    Marketing\n",
      "77   Hannah  25.0  Female  user77@example.com 2022-06-22      NaN  Engineering\n",
      "78      Ivy  40.0   Other  user78@example.com 2021-05-21  70000.0  Engineering\n",
      "79     Jack  30.0     NaN  user79@example.com        NaT  80000.0  Engineering\n",
      "80    Alice  40.0    Male  user80@example.com        NaT  50000.0  Engineering\n",
      "81      Bob  30.0   Other  user81@example.com 2021-05-21      NaN  Engineering\n",
      "82  Charlie  35.0     NaN  user82@example.com 2021-05-21      NaN        Admin\n",
      "83    David  35.0    Male  user83@example.com 2022-06-22  50000.0        Sales\n",
      "84      Eva  35.0    Male  user84@example.com        NaT      NaN    Marketing\n",
      "85    Frank  30.0    Male  user85@example.com 2022-06-22      NaN  Engineering\n",
      "86    Grace  40.0    Male  user86@example.com        NaT      NaN        Sales\n",
      "87   Hannah  35.0    Male  user87@example.com        NaT  70000.0  Engineering\n",
      "88      Ivy  35.0     NaN  user88@example.com 2022-06-22  80000.0  Engineering\n",
      "89     Jack  35.0     NaN  user89@example.com 2021-05-21  50000.0        Sales\n",
      "90    Alice  30.0  Female                   -        NaT  80000.0  Engineering\n",
      "91      Bob  30.0  Female                   -        NaT      NaN        Admin\n",
      "92  Charlie  40.0    Male                   - 2021-05-21      NaN        Admin\n",
      "93    David  30.0    Male                   - 2022-06-22      NaN        Sales\n",
      "94      Eva  30.0     NaN                   - 2021-05-21      NaN  Engineering\n",
      "95    Frank  35.0    Male                   -        NaT  50000.0  Engineering\n",
      "96    Grace  40.0    Male                   -        NaT  70000.0        Sales\n",
      "97   Hannah  35.0    Male                   - 2020-01-01  60000.0  Engineering\n",
      "98      Ivy  35.0  Female                   - 2020-01-01  50000.0  Engineering\n",
      "99     Jack  35.0     NaN                   -        NaT  60000.0        Admin\n"
     ]
    }
   ],
   "source": [
    "print(ds.to_string())"
   ]
  },
  {
   "cell_type": "code",
   "execution_count": 46,
   "id": "d7dc4a91-1a69-4a58-821a-838d1237e838",
   "metadata": {},
   "outputs": [],
   "source": [
    "#save date into new file\n",
    "ds.to_csv(\"cleaned_data.csv\")"
   ]
  },
  {
   "cell_type": "code",
   "execution_count": null,
   "id": "c0cf06dc-17ba-489b-8836-81f228c8b46b",
   "metadata": {},
   "outputs": [],
   "source": []
  }
 ],
 "metadata": {
  "kernelspec": {
   "display_name": "Python 3 (ipykernel)",
   "language": "python",
   "name": "python3"
  },
  "language_info": {
   "codemirror_mode": {
    "name": "ipython",
    "version": 3
   },
   "file_extension": ".py",
   "mimetype": "text/x-python",
   "name": "python",
   "nbconvert_exporter": "python",
   "pygments_lexer": "ipython3",
   "version": "3.13.3"
  }
 },
 "nbformat": 4,
 "nbformat_minor": 5
}
