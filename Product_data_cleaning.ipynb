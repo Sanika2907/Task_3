{
 "cells": [
  {
   "cell_type": "code",
   "execution_count": 1,
   "id": "b067d2de-2479-4abe-9e6f-823f95a39aeb",
   "metadata": {},
   "outputs": [],
   "source": [
    "#import liabraries\n",
    "\n",
    "import numpy as np\n",
    "import pandas as pd\n",
    "import matplotlib.pyplot as plt\n",
    "import seaborn as sns"
   ]
  },
  {
   "cell_type": "code",
   "execution_count": 4,
   "id": "48043c0e-900a-483d-b660-d83567dfb563",
   "metadata": {},
   "outputs": [
    {
     "name": "stdout",
     "output_type": "stream",
     "text": [
      "<class 'pandas.core.frame.DataFrame'>\n",
      "RangeIndex: 125 entries, 0 to 124\n",
      "Data columns (total 6 columns):\n",
      " #   Column        Non-Null Count  Dtype \n",
      "---  ------        --------------  ----- \n",
      " 0   CustomerID    125 non-null    int64 \n",
      " 1   Product       125 non-null    object\n",
      " 2   Price         103 non-null    object\n",
      " 3   Quantity      98 non-null     object\n",
      " 4   City          125 non-null    object\n",
      " 5   PurchaseDate  125 non-null    object\n",
      "dtypes: int64(1), object(5)\n",
      "memory usage: 6.0+ KB\n"
     ]
    }
   ],
   "source": [
    "# import dataset\n",
    "ds=pd.read_csv(\"product_data.csv\")\n",
    "ds.info()\n"
   ]
  },
  {
   "cell_type": "code",
   "execution_count": 5,
   "id": "df507bcc-8f7a-40bb-ba11-6bdbbb5356ec",
   "metadata": {},
   "outputs": [
    {
     "data": {
      "text/html": [
       "<div>\n",
       "<style scoped>\n",
       "    .dataframe tbody tr th:only-of-type {\n",
       "        vertical-align: middle;\n",
       "    }\n",
       "\n",
       "    .dataframe tbody tr th {\n",
       "        vertical-align: top;\n",
       "    }\n",
       "\n",
       "    .dataframe thead th {\n",
       "        text-align: right;\n",
       "    }\n",
       "</style>\n",
       "<table border=\"1\" class=\"dataframe\">\n",
       "  <thead>\n",
       "    <tr style=\"text-align: right;\">\n",
       "      <th></th>\n",
       "      <th>CustomerID</th>\n",
       "    </tr>\n",
       "  </thead>\n",
       "  <tbody>\n",
       "    <tr>\n",
       "      <th>count</th>\n",
       "      <td>125.000000</td>\n",
       "    </tr>\n",
       "    <tr>\n",
       "      <th>mean</th>\n",
       "      <td>1045.936000</td>\n",
       "    </tr>\n",
       "    <tr>\n",
       "      <th>std</th>\n",
       "      <td>28.183942</td>\n",
       "    </tr>\n",
       "    <tr>\n",
       "      <th>min</th>\n",
       "      <td>1000.000000</td>\n",
       "    </tr>\n",
       "    <tr>\n",
       "      <th>25%</th>\n",
       "      <td>1019.000000</td>\n",
       "    </tr>\n",
       "    <tr>\n",
       "      <th>50%</th>\n",
       "      <td>1044.000000</td>\n",
       "    </tr>\n",
       "    <tr>\n",
       "      <th>75%</th>\n",
       "      <td>1071.000000</td>\n",
       "    </tr>\n",
       "    <tr>\n",
       "      <th>max</th>\n",
       "      <td>1098.000000</td>\n",
       "    </tr>\n",
       "  </tbody>\n",
       "</table>\n",
       "</div>"
      ],
      "text/plain": [
       "        CustomerID\n",
       "count   125.000000\n",
       "mean   1045.936000\n",
       "std      28.183942\n",
       "min    1000.000000\n",
       "25%    1019.000000\n",
       "50%    1044.000000\n",
       "75%    1071.000000\n",
       "max    1098.000000"
      ]
     },
     "execution_count": 5,
     "metadata": {},
     "output_type": "execute_result"
    }
   ],
   "source": [
    "ds.describe()#display information"
   ]
  },
  {
   "cell_type": "code",
   "execution_count": 8,
   "id": "a170ff1c-6cf6-46c3-b15a-e8250f1a67d7",
   "metadata": {},
   "outputs": [
    {
     "data": {
      "text/plain": [
       "np.int64(0)"
      ]
     },
     "execution_count": 8,
     "metadata": {},
     "output_type": "execute_result"
    }
   ],
   "source": [
    "#searching for duplicates\n",
    "ds.duplicated().sum()#sum are used to count"
   ]
  },
  {
   "cell_type": "code",
   "execution_count": 7,
   "id": "d19782e2-596d-435f-9ebd-37f6829283f5",
   "metadata": {},
   "outputs": [],
   "source": [
    "# Remove duplicates\n",
    "ds.drop_duplicates(inplace=True)"
   ]
  },
  {
   "cell_type": "code",
   "execution_count": 9,
   "id": "158ce9aa-c659-47ed-b0b3-b97e75a68db1",
   "metadata": {},
   "outputs": [
    {
     "data": {
      "text/plain": [
       "Index(['CustomerID', 'Product', 'Price', 'Quantity', 'City', 'PurchaseDate'], dtype='object')"
      ]
     },
     "execution_count": 9,
     "metadata": {},
     "output_type": "execute_result"
    }
   ],
   "source": [
    "ds.columns#to get columns name only"
   ]
  },
  {
   "cell_type": "code",
   "execution_count": 15,
   "id": "407101bd-5358-45e2-b14d-dc5bb1aeecda",
   "metadata": {},
   "outputs": [
    {
     "data": {
      "text/plain": [
       "array([1052, 1041, 1057, 1038, 1013, 1094, 1004, 1034, 1086, 1092, 1074,\n",
       "       1017, 1075, 1008, 1073, 1016, 1006, 1045, 1012, 1039, 1049, 1026,\n",
       "       1065, 1028, 1036, 1037, 1082, 1007, 1064, 1085, 1070, 1088, 1044,\n",
       "       1003, 1035, 1069, 1030, 1018, 1060, 1053, 1090, 1089, 1066, 1091,\n",
       "       1019, 1071, 1000, 1002, 1076, 1061, 1062, 1024, 1055, 1032, 1005,\n",
       "       1043, 1031, 1046, 1020, 1079, 1084, 1098, 1056, 1048, 1014, 1015,\n",
       "       1011, 1095, 1023, 1027, 1059, 1040])"
      ]
     },
     "execution_count": 15,
     "metadata": {},
     "output_type": "execute_result"
    }
   ],
   "source": [
    "ds[\"CustomerID\"].unique()"
   ]
  },
  {
   "cell_type": "code",
   "execution_count": 16,
   "id": "032b7947-b41a-47df-aabe-00635a76e095",
   "metadata": {},
   "outputs": [
    {
     "name": "stderr",
     "output_type": "stream",
     "text": [
      "C:\\Users\\Sanavi\\AppData\\Local\\Temp\\ipykernel_16008\\1168672983.py:3: FutureWarning: A value is trying to be set on a copy of a DataFrame or Series through chained assignment using an inplace method.\n",
      "The behavior will change in pandas 3.0. This inplace method will never work because the intermediate object on which we are setting values always behaves as a copy.\n",
      "\n",
      "For example, when doing 'df[col].method(value, inplace=True)', try using 'df.method({col: value}, inplace=True)' or df[col] = df[col].method(value) instead, to perform the operation inplace on the original object.\n",
      "\n",
      "\n",
      "  ds[\"CustomerID\"].fillna(x,inplace=True)\n"
     ]
    }
   ],
   "source": [
    "#To find missing values\n",
    "x=ds[\"CustomerID\"].median()\n",
    "ds[\"CustomerID\"].fillna(x,inplace=True)"
   ]
  },
  {
   "cell_type": "code",
   "execution_count": 17,
   "id": "2c5e930c-7beb-4dd3-8b36-ab4ca8a14c87",
   "metadata": {},
   "outputs": [
    {
     "name": "stdout",
     "output_type": "stream",
     "text": [
      "<class 'pandas.core.frame.DataFrame'>\n",
      "Index: 120 entries, 0 to 119\n",
      "Data columns (total 6 columns):\n",
      " #   Column        Non-Null Count  Dtype \n",
      "---  ------        --------------  ----- \n",
      " 0   CustomerID    120 non-null    int64 \n",
      " 1   Product       120 non-null    object\n",
      " 2   Price         98 non-null     object\n",
      " 3   Quantity      96 non-null     object\n",
      " 4   City          120 non-null    object\n",
      " 5   PurchaseDate  120 non-null    object\n",
      "dtypes: int64(1), object(5)\n",
      "memory usage: 6.6+ KB\n"
     ]
    }
   ],
   "source": [
    "ds.info()"
   ]
  },
  {
   "cell_type": "code",
   "execution_count": 41,
   "id": "b8b58688-ddba-42f0-9f0f-77b7c4ae6195",
   "metadata": {},
   "outputs": [
    {
     "name": "stderr",
     "output_type": "stream",
     "text": [
      "C:\\Users\\Sanavi\\AppData\\Local\\Temp\\ipykernel_16008\\2631109785.py:2: FutureWarning: A value is trying to be set on a copy of a DataFrame or Series through chained assignment using an inplace method.\n",
      "The behavior will change in pandas 3.0. This inplace method will never work because the intermediate object on which we are setting values always behaves as a copy.\n",
      "\n",
      "For example, when doing 'df[col].method(value, inplace=True)', try using 'df.method({col: value}, inplace=True)' or df[col] = df[col].method(value) instead, to perform the operation inplace on the original object.\n",
      "\n",
      "\n",
      "  ds[\"Price\"].fillna(\"-\",inplace=True)\n",
      "C:\\Users\\Sanavi\\AppData\\Local\\Temp\\ipykernel_16008\\2631109785.py:2: FutureWarning: Setting an item of incompatible dtype is deprecated and will raise an error in a future version of pandas. Value '-' has dtype incompatible with float64, please explicitly cast to a compatible dtype first.\n",
      "  ds[\"Price\"].fillna(\"-\",inplace=True)\n"
     ]
    }
   ],
   "source": [
    "#Handling Price column\n",
    "ds[\"Price\"].fillna(\"-\",inplace=True)"
   ]
  },
  {
   "cell_type": "code",
   "execution_count": 42,
   "id": "99a42e99-d4b5-488b-b8c4-9b13b8082591",
   "metadata": {},
   "outputs": [
    {
     "name": "stdout",
     "output_type": "stream",
     "text": [
      "<class 'pandas.core.frame.DataFrame'>\n",
      "Index: 120 entries, 0 to 119\n",
      "Data columns (total 6 columns):\n",
      " #   Column        Non-Null Count  Dtype         \n",
      "---  ------        --------------  -----         \n",
      " 0   CustomerID    120 non-null    int64         \n",
      " 1   Product       120 non-null    object        \n",
      " 2   Price         120 non-null    object        \n",
      " 3   Quantity      95 non-null     float64       \n",
      " 4   City          120 non-null    object        \n",
      " 5   PurchaseDate  120 non-null    datetime64[ns]\n",
      "dtypes: datetime64[ns](1), float64(1), int64(1), object(3)\n",
      "memory usage: 6.6+ KB\n"
     ]
    }
   ],
   "source": [
    "ds.info()"
   ]
  },
  {
   "cell_type": "code",
   "execution_count": 43,
   "id": "0b766e09-f41a-45b9-9b33-0885e4b486e2",
   "metadata": {},
   "outputs": [
    {
     "name": "stdout",
     "output_type": "stream",
     "text": [
      "     CustomerID     Product    Price  Quantity       City PurchaseDate\n",
      "0          1052     Desktop        -       4.0  Bangalore   2021-06-30\n",
      "1          1041     Desktop        -       3.0      Delhi   2023-01-21\n",
      "2          1057  Smartphone        -       2.0  Bangalore   2023-04-06\n",
      "3          1038      Tablet  45000.0       1.0    Chennai   2023-07-05\n",
      "4          1013  Smartphone  45000.0       NaN     Mumbai   2022-04-11\n",
      "5          1094      Laptop  60000.0       NaN     Mumbai   2022-03-12\n",
      "6          1004      Laptop  30000.0       2.0    Chennai   2022-02-25\n",
      "7          1034      Laptop  30000.0       2.0    Chennai   2022-12-22\n",
      "8          1086      Laptop  30000.0       3.0      Delhi   2022-10-23\n",
      "9          1092     Desktop  30000.0       3.0     Mumbai   2022-03-12\n",
      "10         1074      Laptop  45000.0       NaN  Bangalore   2021-08-14\n",
      "11         1017     Desktop  45000.0       NaN       Pune   2022-08-09\n",
      "12         1075     Desktop  30000.0       1.0       Pune   2021-09-28\n",
      "13         1008      Laptop  60000.0       1.0    Chennai   2021-09-13\n",
      "14         1073      Laptop  15000.0       NaN      Delhi   2021-01-01\n",
      "15         1057      Tablet  15000.0       NaN       Pune   2022-11-22\n",
      "16         1016  Smartphone  60000.0       4.0     Mumbai   2023-09-03\n",
      "17         1006      Laptop  30000.0       3.0    Chennai   2022-07-10\n",
      "18         1045      Tablet  45000.0       1.0  Bangalore   2023-01-21\n",
      "19         1012      Tablet  15000.0       3.0    Chennai   2023-07-20\n",
      "20         1039  Smartphone        -       3.0  Bangalore   2021-02-15\n",
      "21         1041     Desktop        -       NaN    Chennai   2021-01-01\n",
      "22         1008      Laptop  60000.0       4.0    Chennai   2021-04-16\n",
      "23         1049  Smartphone  30000.0       2.0    Chennai   2022-02-25\n",
      "24         1026      Laptop  15000.0       4.0  Bangalore   2023-03-22\n",
      "25         1065      Tablet  30000.0       4.0  Bangalore   2021-01-31\n",
      "26         1004      Tablet  15000.0       3.0    Chennai   2022-04-11\n",
      "27         1028     Desktop  60000.0       4.0       Pune   2021-05-16\n",
      "28         1036      Tablet  60000.0       1.0      Delhi   2022-05-11\n",
      "29         1037      Tablet        -       3.0      Delhi   2023-03-22\n",
      "30         1082  Smartphone  30000.0       1.0      Delhi   2022-04-11\n",
      "31         1007      Laptop        -       2.0  Bangalore   2023-01-06\n",
      "32         1064      Laptop  30000.0       3.0  Bangalore   2021-04-01\n",
      "33         1085  Smartphone        -       2.0       Pune   2021-04-16\n",
      "34         1016     Desktop  45000.0       3.0      Delhi   2023-08-19\n",
      "35         1070      Laptop  45000.0       NaN      Delhi   2023-04-21\n",
      "36         1088      Tablet  45000.0       4.0    Chennai   2023-09-18\n",
      "37         1044      Laptop  45000.0       NaN  Bangalore   2023-05-21\n",
      "38         1003      Tablet  15000.0       2.0      Delhi   2023-12-02\n",
      "39         1035     Desktop  45000.0       4.0       Pune   2023-03-07\n",
      "40         1069  Smartphone  60000.0       3.0       Pune   2023-09-18\n",
      "41         1030      Laptop  60000.0       4.0      Delhi   2023-01-21\n",
      "42         1018  Smartphone  15000.0       1.0  Bangalore   2021-04-16\n",
      "43         1060      Laptop  45000.0       4.0       Pune   2022-05-11\n",
      "44         1053      Tablet  45000.0       1.0    Chennai   2022-05-26\n",
      "45         1038  Smartphone  45000.0       4.0       Pune   2022-04-11\n",
      "46         1090      Laptop        -       1.0     Mumbai   2022-11-07\n",
      "47         1073      Tablet  30000.0       2.0     Mumbai   2021-08-14\n",
      "48         1089  Smartphone        -       NaN  Bangalore   2023-10-03\n",
      "49         1018  Smartphone  30000.0       3.0      Delhi   2022-06-25\n",
      "50         1038      Laptop  45000.0       4.0  Bangalore   2023-03-07\n",
      "51         1066      Laptop  45000.0       NaN  Bangalore   2021-07-15\n",
      "52         1044      Laptop        -       3.0  Bangalore   2023-03-22\n",
      "53         1012      Tablet        -       3.0  Bangalore   2022-12-07\n",
      "54         1091      Laptop  30000.0       1.0    Chennai   2021-04-01\n",
      "55         1057  Smartphone  60000.0       2.0    Chennai   2021-04-01\n",
      "56         1019  Smartphone  30000.0       2.0       Pune   2022-04-26\n",
      "57         1091      Laptop        -       NaN     Mumbai   2021-11-27\n",
      "58         1071      Laptop        -       2.0  Bangalore   2021-09-28\n",
      "59         1060     Desktop  15000.0       4.0       Pune   2021-09-28\n",
      "60         1038  Smartphone        -       2.0     Mumbai   2022-06-10\n",
      "61         1000      Tablet  15000.0       NaN      Delhi   2022-02-25\n",
      "62         1002     Desktop  60000.0       2.0    Chennai   2023-06-05\n",
      "63         1076      Laptop  30000.0       4.0     Mumbai   2021-01-16\n",
      "64         1091      Laptop  30000.0       1.0      Delhi   2021-01-01\n",
      "65         1061  Smartphone  15000.0       NaN     Mumbai   2022-11-22\n",
      "66         1062      Laptop  30000.0       1.0    Chennai   2023-10-18\n",
      "67         1024      Tablet        -       1.0    Chennai   2021-10-13\n",
      "68         1055  Smartphone  45000.0       1.0       Pune   2021-05-31\n",
      "69         1032      Laptop  15000.0       3.0  Bangalore   2021-01-16\n",
      "70         1037  Smartphone  30000.0       3.0     Mumbai   2023-09-18\n",
      "71         1005      Laptop  15000.0       1.0     Mumbai   2021-06-15\n",
      "72         1057      Laptop  15000.0       NaN      Delhi   2021-10-13\n",
      "73         1043      Laptop  45000.0       4.0    Chennai   2021-03-02\n",
      "74         1044      Tablet        -       4.0     Mumbai   2022-06-25\n",
      "75         1031      Tablet  15000.0       2.0    Chennai   2022-07-10\n",
      "76         1044  Smartphone  30000.0       NaN     Mumbai   2021-05-01\n",
      "77         1060      Laptop  60000.0       3.0       Pune   2023-02-20\n",
      "78         1046      Laptop  15000.0       1.0  Bangalore   2022-10-08\n",
      "79         1020      Tablet  15000.0       2.0     Mumbai   2021-12-12\n",
      "80         1079      Laptop  45000.0       4.0    Chennai   2022-03-12\n",
      "81         1084      Tablet        -       3.0       Pune   2023-05-21\n",
      "82         1074      Laptop  60000.0       3.0     Mumbai   2021-07-15\n",
      "83         1035  Smartphone  30000.0       1.0      Delhi   2021-05-01\n",
      "84         1098      Laptop  60000.0       4.0  Bangalore   2022-08-09\n",
      "85         1018      Laptop  30000.0       NaN     Mumbai   2023-09-03\n",
      "86         1019     Desktop        -       3.0       Pune   2021-12-27\n",
      "87         1056      Tablet  30000.0       1.0      Delhi   2023-12-17\n",
      "88         1017      Laptop  45000.0       NaN       Pune   2021-11-12\n",
      "89         1046      Laptop  45000.0       4.0       Pune   2021-02-15\n",
      "90         1048     Desktop  45000.0       3.0      Delhi   2022-01-11\n",
      "91         1013     Desktop  45000.0       NaN       Pune   2023-05-06\n",
      "92         1014      Tablet  60000.0       NaN      Delhi   2022-02-25\n",
      "93         1030     Desktop        -       NaN     Mumbai   2022-06-25\n",
      "94         1000  Smartphone  30000.0       3.0      Delhi   2023-11-02\n",
      "95         1053     Desktop  30000.0       3.0      Delhi   2021-09-13\n",
      "96         1002  Smartphone  45000.0       2.0  Bangalore   2022-09-08\n",
      "97         1015      Tablet  45000.0       4.0      Delhi   2022-08-24\n",
      "98         1086      Tablet  15000.0       1.0      Delhi   2022-07-10\n",
      "99         1056      Tablet        -       NaN     Mumbai   2022-05-11\n",
      "100        1074      Tablet  60000.0       2.0  Bangalore   2021-08-29\n",
      "101        1011      Tablet  30000.0       1.0    Chennai   2022-06-25\n",
      "102        1073  Smartphone  15000.0       2.0     Mumbai   2021-12-27\n",
      "103        1095  Smartphone  15000.0       3.0     Mumbai   2022-01-26\n",
      "104        1015      Tablet  30000.0       NaN    Chennai   2023-04-21\n",
      "105        1071     Desktop  60000.0       1.0      Delhi   2022-03-27\n",
      "106        1075      Laptop  15000.0       1.0       Pune   2021-03-17\n",
      "107        1023      Tablet  15000.0       1.0  Bangalore   2022-08-09\n",
      "108        1027     Desktop        -       1.0       Pune   2021-06-15\n",
      "109        1007      Laptop  60000.0       1.0    Chennai   2023-02-20\n",
      "110        1091      Tablet  15000.0       2.0     Mumbai   2023-11-17\n",
      "111        1035      Tablet  60000.0       NaN     Mumbai   2021-05-16\n",
      "112        1089  Smartphone  30000.0       3.0  Bangalore   2022-10-23\n",
      "113        1007      Laptop  45000.0       3.0     Mumbai   2021-08-29\n",
      "114        1057      Laptop  15000.0       3.0     Mumbai   2022-01-11\n",
      "115        1059     Desktop        -       3.0  Bangalore   2023-07-05\n",
      "116        1049  Smartphone  30000.0       2.0  Bangalore   2022-11-07\n",
      "117        1027  Smartphone  60000.0       4.0    Chennai   2023-08-04\n",
      "118        1091  Smartphone  30000.0       NaN     Mumbai   2021-01-16\n",
      "119        1040  Smartphone  15000.0       1.0     Mumbai   2023-03-07\n"
     ]
    }
   ],
   "source": [
    "print(ds.to_string())"
   ]
  },
  {
   "cell_type": "code",
   "execution_count": 21,
   "id": "d51acc65-a5cf-472f-86c8-243f2abe26c6",
   "metadata": {},
   "outputs": [],
   "source": [
    "#Handing date column\n",
    "ds[\"PurchaseDate\"]=pd.to_datetime(ds[\"PurchaseDate\"],errors='coerce')"
   ]
  },
  {
   "cell_type": "code",
   "execution_count": 22,
   "id": "acf3769d-bdac-4354-9401-821fc7a6f377",
   "metadata": {},
   "outputs": [
    {
     "name": "stdout",
     "output_type": "stream",
     "text": [
      "<class 'pandas.core.frame.DataFrame'>\n",
      "Index: 120 entries, 0 to 119\n",
      "Data columns (total 6 columns):\n",
      " #   Column        Non-Null Count  Dtype         \n",
      "---  ------        --------------  -----         \n",
      " 0   CustomerID    120 non-null    int64         \n",
      " 1   Product       120 non-null    object        \n",
      " 2   Price         120 non-null    object        \n",
      " 3   Quantity      96 non-null     object        \n",
      " 4   City          120 non-null    object        \n",
      " 5   PurchaseDate  120 non-null    datetime64[ns]\n",
      "dtypes: datetime64[ns](1), int64(1), object(4)\n",
      "memory usage: 6.6+ KB\n"
     ]
    }
   ],
   "source": [
    "ds.info()"
   ]
  },
  {
   "cell_type": "code",
   "execution_count": 23,
   "id": "db82b720-67ae-406f-a7ba-4a05bfd1e07c",
   "metadata": {},
   "outputs": [],
   "source": [
    "#Handing Quantity\n",
    "ds[\"Quantity\"] = pd.to_numeric(ds[\"Quantity\"],errors='coerce')"
   ]
  },
  {
   "cell_type": "code",
   "execution_count": 24,
   "id": "fac3ac2d-5c26-4f9a-9d03-54de93137a32",
   "metadata": {},
   "outputs": [
    {
     "name": "stdout",
     "output_type": "stream",
     "text": [
      "<class 'pandas.core.frame.DataFrame'>\n",
      "Index: 120 entries, 0 to 119\n",
      "Data columns (total 6 columns):\n",
      " #   Column        Non-Null Count  Dtype         \n",
      "---  ------        --------------  -----         \n",
      " 0   CustomerID    120 non-null    int64         \n",
      " 1   Product       120 non-null    object        \n",
      " 2   Price         120 non-null    object        \n",
      " 3   Quantity      95 non-null     float64       \n",
      " 4   City          120 non-null    object        \n",
      " 5   PurchaseDate  120 non-null    datetime64[ns]\n",
      "dtypes: datetime64[ns](1), float64(1), int64(1), object(3)\n",
      "memory usage: 6.6+ KB\n"
     ]
    }
   ],
   "source": [
    "ds.info()"
   ]
  },
  {
   "cell_type": "code",
   "execution_count": 25,
   "id": "a9d6e016-0b33-4826-a946-0ab10408422f",
   "metadata": {},
   "outputs": [],
   "source": [
    "#Handing price\n",
    "ds[\"Price\"] = pd.to_numeric(ds[\"Price\"],errors='coerce')"
   ]
  },
  {
   "cell_type": "code",
   "execution_count": 26,
   "id": "89036b60-4c6a-466d-9b7a-60ec96ec0459",
   "metadata": {},
   "outputs": [
    {
     "name": "stdout",
     "output_type": "stream",
     "text": [
      "<class 'pandas.core.frame.DataFrame'>\n",
      "Index: 120 entries, 0 to 119\n",
      "Data columns (total 6 columns):\n",
      " #   Column        Non-Null Count  Dtype         \n",
      "---  ------        --------------  -----         \n",
      " 0   CustomerID    120 non-null    int64         \n",
      " 1   Product       120 non-null    object        \n",
      " 2   Price         97 non-null     float64       \n",
      " 3   Quantity      95 non-null     float64       \n",
      " 4   City          120 non-null    object        \n",
      " 5   PurchaseDate  120 non-null    datetime64[ns]\n",
      "dtypes: datetime64[ns](1), float64(2), int64(1), object(2)\n",
      "memory usage: 6.6+ KB\n"
     ]
    }
   ],
   "source": [
    "ds.info()"
   ]
  },
  {
   "cell_type": "code",
   "execution_count": 27,
   "id": "d01eb146-799d-4c1e-8407-e347ac88c615",
   "metadata": {},
   "outputs": [
    {
     "data": {
      "text/plain": [
       "array(['Bangalore', 'Delhi', 'Chennai', 'Mumbai', 'Pune'], dtype=object)"
      ]
     },
     "execution_count": 27,
     "metadata": {},
     "output_type": "execute_result"
    }
   ],
   "source": [
    "ds[\"City\"].unique()"
   ]
  },
  {
   "cell_type": "code",
   "execution_count": 28,
   "id": "618ea190-2a0d-4b95-8249-f13ebd38f10a",
   "metadata": {},
   "outputs": [
    {
     "name": "stdout",
     "output_type": "stream",
     "text": [
      "Mumbai\n"
     ]
    }
   ],
   "source": [
    "#mode of column city\n",
    "y=ds[\"City\"].mode()[0]\n",
    "print(y)"
   ]
  },
  {
   "cell_type": "code",
   "execution_count": 29,
   "id": "24ab648f-1b23-4720-b299-d0420bf6b30f",
   "metadata": {},
   "outputs": [
    {
     "name": "stderr",
     "output_type": "stream",
     "text": [
      "C:\\Users\\Sanavi\\AppData\\Local\\Temp\\ipykernel_16008\\1399136087.py:3: FutureWarning: A value is trying to be set on a copy of a DataFrame or Series through chained assignment using an inplace method.\n",
      "The behavior will change in pandas 3.0. This inplace method will never work because the intermediate object on which we are setting values always behaves as a copy.\n",
      "\n",
      "For example, when doing 'df[col].method(value, inplace=True)', try using 'df.method({col: value}, inplace=True)' or df[col] = df[col].method(value) instead, to perform the operation inplace on the original object.\n",
      "\n",
      "\n",
      "  ds[\"City\"].fillna(y,inplace=True)\n"
     ]
    }
   ],
   "source": [
    "#fill empty cell in city\n",
    "y=ds[\"City\"].mode()[0]\n",
    "ds[\"City\"].fillna(y,inplace=True)"
   ]
  },
  {
   "cell_type": "code",
   "execution_count": 30,
   "id": "88ab0e51-5b36-4a4a-8622-983d1113380b",
   "metadata": {},
   "outputs": [
    {
     "name": "stdout",
     "output_type": "stream",
     "text": [
      "<class 'pandas.core.frame.DataFrame'>\n",
      "Index: 120 entries, 0 to 119\n",
      "Data columns (total 6 columns):\n",
      " #   Column        Non-Null Count  Dtype         \n",
      "---  ------        --------------  -----         \n",
      " 0   CustomerID    120 non-null    int64         \n",
      " 1   Product       120 non-null    object        \n",
      " 2   Price         97 non-null     float64       \n",
      " 3   Quantity      95 non-null     float64       \n",
      " 4   City          120 non-null    object        \n",
      " 5   PurchaseDate  120 non-null    datetime64[ns]\n",
      "dtypes: datetime64[ns](1), float64(2), int64(1), object(2)\n",
      "memory usage: 6.6+ KB\n"
     ]
    }
   ],
   "source": [
    "ds.info()"
   ]
  },
  {
   "cell_type": "code",
   "execution_count": 44,
   "id": "0bae21d2-3749-4199-bb1e-9e05fc31a20a",
   "metadata": {},
   "outputs": [
    {
     "name": "stdout",
     "output_type": "stream",
     "text": [
      "     CustomerID     Product    Price  Quantity       City PurchaseDate\n",
      "0          1052     Desktop        -       4.0  Bangalore   2021-06-30\n",
      "1          1041     Desktop        -       3.0      Delhi   2023-01-21\n",
      "2          1057  Smartphone        -       2.0  Bangalore   2023-04-06\n",
      "3          1038      Tablet  45000.0       1.0    Chennai   2023-07-05\n",
      "4          1013  Smartphone  45000.0       NaN     Mumbai   2022-04-11\n",
      "5          1094      Laptop  60000.0       NaN     Mumbai   2022-03-12\n",
      "6          1004      Laptop  30000.0       2.0    Chennai   2022-02-25\n",
      "7          1034      Laptop  30000.0       2.0    Chennai   2022-12-22\n",
      "8          1086      Laptop  30000.0       3.0      Delhi   2022-10-23\n",
      "9          1092     Desktop  30000.0       3.0     Mumbai   2022-03-12\n",
      "10         1074      Laptop  45000.0       NaN  Bangalore   2021-08-14\n",
      "11         1017     Desktop  45000.0       NaN       Pune   2022-08-09\n",
      "12         1075     Desktop  30000.0       1.0       Pune   2021-09-28\n",
      "13         1008      Laptop  60000.0       1.0    Chennai   2021-09-13\n",
      "14         1073      Laptop  15000.0       NaN      Delhi   2021-01-01\n",
      "15         1057      Tablet  15000.0       NaN       Pune   2022-11-22\n",
      "16         1016  Smartphone  60000.0       4.0     Mumbai   2023-09-03\n",
      "17         1006      Laptop  30000.0       3.0    Chennai   2022-07-10\n",
      "18         1045      Tablet  45000.0       1.0  Bangalore   2023-01-21\n",
      "19         1012      Tablet  15000.0       3.0    Chennai   2023-07-20\n",
      "20         1039  Smartphone        -       3.0  Bangalore   2021-02-15\n",
      "21         1041     Desktop        -       NaN    Chennai   2021-01-01\n",
      "22         1008      Laptop  60000.0       4.0    Chennai   2021-04-16\n",
      "23         1049  Smartphone  30000.0       2.0    Chennai   2022-02-25\n",
      "24         1026      Laptop  15000.0       4.0  Bangalore   2023-03-22\n",
      "25         1065      Tablet  30000.0       4.0  Bangalore   2021-01-31\n",
      "26         1004      Tablet  15000.0       3.0    Chennai   2022-04-11\n",
      "27         1028     Desktop  60000.0       4.0       Pune   2021-05-16\n",
      "28         1036      Tablet  60000.0       1.0      Delhi   2022-05-11\n",
      "29         1037      Tablet        -       3.0      Delhi   2023-03-22\n",
      "30         1082  Smartphone  30000.0       1.0      Delhi   2022-04-11\n",
      "31         1007      Laptop        -       2.0  Bangalore   2023-01-06\n",
      "32         1064      Laptop  30000.0       3.0  Bangalore   2021-04-01\n",
      "33         1085  Smartphone        -       2.0       Pune   2021-04-16\n",
      "34         1016     Desktop  45000.0       3.0      Delhi   2023-08-19\n",
      "35         1070      Laptop  45000.0       NaN      Delhi   2023-04-21\n",
      "36         1088      Tablet  45000.0       4.0    Chennai   2023-09-18\n",
      "37         1044      Laptop  45000.0       NaN  Bangalore   2023-05-21\n",
      "38         1003      Tablet  15000.0       2.0      Delhi   2023-12-02\n",
      "39         1035     Desktop  45000.0       4.0       Pune   2023-03-07\n",
      "40         1069  Smartphone  60000.0       3.0       Pune   2023-09-18\n",
      "41         1030      Laptop  60000.0       4.0      Delhi   2023-01-21\n",
      "42         1018  Smartphone  15000.0       1.0  Bangalore   2021-04-16\n",
      "43         1060      Laptop  45000.0       4.0       Pune   2022-05-11\n",
      "44         1053      Tablet  45000.0       1.0    Chennai   2022-05-26\n",
      "45         1038  Smartphone  45000.0       4.0       Pune   2022-04-11\n",
      "46         1090      Laptop        -       1.0     Mumbai   2022-11-07\n",
      "47         1073      Tablet  30000.0       2.0     Mumbai   2021-08-14\n",
      "48         1089  Smartphone        -       NaN  Bangalore   2023-10-03\n",
      "49         1018  Smartphone  30000.0       3.0      Delhi   2022-06-25\n",
      "50         1038      Laptop  45000.0       4.0  Bangalore   2023-03-07\n",
      "51         1066      Laptop  45000.0       NaN  Bangalore   2021-07-15\n",
      "52         1044      Laptop        -       3.0  Bangalore   2023-03-22\n",
      "53         1012      Tablet        -       3.0  Bangalore   2022-12-07\n",
      "54         1091      Laptop  30000.0       1.0    Chennai   2021-04-01\n",
      "55         1057  Smartphone  60000.0       2.0    Chennai   2021-04-01\n",
      "56         1019  Smartphone  30000.0       2.0       Pune   2022-04-26\n",
      "57         1091      Laptop        -       NaN     Mumbai   2021-11-27\n",
      "58         1071      Laptop        -       2.0  Bangalore   2021-09-28\n",
      "59         1060     Desktop  15000.0       4.0       Pune   2021-09-28\n",
      "60         1038  Smartphone        -       2.0     Mumbai   2022-06-10\n",
      "61         1000      Tablet  15000.0       NaN      Delhi   2022-02-25\n",
      "62         1002     Desktop  60000.0       2.0    Chennai   2023-06-05\n",
      "63         1076      Laptop  30000.0       4.0     Mumbai   2021-01-16\n",
      "64         1091      Laptop  30000.0       1.0      Delhi   2021-01-01\n",
      "65         1061  Smartphone  15000.0       NaN     Mumbai   2022-11-22\n",
      "66         1062      Laptop  30000.0       1.0    Chennai   2023-10-18\n",
      "67         1024      Tablet        -       1.0    Chennai   2021-10-13\n",
      "68         1055  Smartphone  45000.0       1.0       Pune   2021-05-31\n",
      "69         1032      Laptop  15000.0       3.0  Bangalore   2021-01-16\n",
      "70         1037  Smartphone  30000.0       3.0     Mumbai   2023-09-18\n",
      "71         1005      Laptop  15000.0       1.0     Mumbai   2021-06-15\n",
      "72         1057      Laptop  15000.0       NaN      Delhi   2021-10-13\n",
      "73         1043      Laptop  45000.0       4.0    Chennai   2021-03-02\n",
      "74         1044      Tablet        -       4.0     Mumbai   2022-06-25\n",
      "75         1031      Tablet  15000.0       2.0    Chennai   2022-07-10\n",
      "76         1044  Smartphone  30000.0       NaN     Mumbai   2021-05-01\n",
      "77         1060      Laptop  60000.0       3.0       Pune   2023-02-20\n",
      "78         1046      Laptop  15000.0       1.0  Bangalore   2022-10-08\n",
      "79         1020      Tablet  15000.0       2.0     Mumbai   2021-12-12\n",
      "80         1079      Laptop  45000.0       4.0    Chennai   2022-03-12\n",
      "81         1084      Tablet        -       3.0       Pune   2023-05-21\n",
      "82         1074      Laptop  60000.0       3.0     Mumbai   2021-07-15\n",
      "83         1035  Smartphone  30000.0       1.0      Delhi   2021-05-01\n",
      "84         1098      Laptop  60000.0       4.0  Bangalore   2022-08-09\n",
      "85         1018      Laptop  30000.0       NaN     Mumbai   2023-09-03\n",
      "86         1019     Desktop        -       3.0       Pune   2021-12-27\n",
      "87         1056      Tablet  30000.0       1.0      Delhi   2023-12-17\n",
      "88         1017      Laptop  45000.0       NaN       Pune   2021-11-12\n",
      "89         1046      Laptop  45000.0       4.0       Pune   2021-02-15\n",
      "90         1048     Desktop  45000.0       3.0      Delhi   2022-01-11\n",
      "91         1013     Desktop  45000.0       NaN       Pune   2023-05-06\n",
      "92         1014      Tablet  60000.0       NaN      Delhi   2022-02-25\n",
      "93         1030     Desktop        -       NaN     Mumbai   2022-06-25\n",
      "94         1000  Smartphone  30000.0       3.0      Delhi   2023-11-02\n",
      "95         1053     Desktop  30000.0       3.0      Delhi   2021-09-13\n",
      "96         1002  Smartphone  45000.0       2.0  Bangalore   2022-09-08\n",
      "97         1015      Tablet  45000.0       4.0      Delhi   2022-08-24\n",
      "98         1086      Tablet  15000.0       1.0      Delhi   2022-07-10\n",
      "99         1056      Tablet        -       NaN     Mumbai   2022-05-11\n",
      "100        1074      Tablet  60000.0       2.0  Bangalore   2021-08-29\n",
      "101        1011      Tablet  30000.0       1.0    Chennai   2022-06-25\n",
      "102        1073  Smartphone  15000.0       2.0     Mumbai   2021-12-27\n",
      "103        1095  Smartphone  15000.0       3.0     Mumbai   2022-01-26\n",
      "104        1015      Tablet  30000.0       NaN    Chennai   2023-04-21\n",
      "105        1071     Desktop  60000.0       1.0      Delhi   2022-03-27\n",
      "106        1075      Laptop  15000.0       1.0       Pune   2021-03-17\n",
      "107        1023      Tablet  15000.0       1.0  Bangalore   2022-08-09\n",
      "108        1027     Desktop        -       1.0       Pune   2021-06-15\n",
      "109        1007      Laptop  60000.0       1.0    Chennai   2023-02-20\n",
      "110        1091      Tablet  15000.0       2.0     Mumbai   2023-11-17\n",
      "111        1035      Tablet  60000.0       NaN     Mumbai   2021-05-16\n",
      "112        1089  Smartphone  30000.0       3.0  Bangalore   2022-10-23\n",
      "113        1007      Laptop  45000.0       3.0     Mumbai   2021-08-29\n",
      "114        1057      Laptop  15000.0       3.0     Mumbai   2022-01-11\n",
      "115        1059     Desktop        -       3.0  Bangalore   2023-07-05\n",
      "116        1049  Smartphone  30000.0       2.0  Bangalore   2022-11-07\n",
      "117        1027  Smartphone  60000.0       4.0    Chennai   2023-08-04\n",
      "118        1091  Smartphone  30000.0       NaN     Mumbai   2021-01-16\n",
      "119        1040  Smartphone  15000.0       1.0     Mumbai   2023-03-07\n"
     ]
    }
   ],
   "source": [
    "print(ds.to_string())"
   ]
  },
  {
   "cell_type": "code",
   "execution_count": 45,
   "id": "345450de-13da-42f5-b3ba-8f2db4200c52",
   "metadata": {},
   "outputs": [],
   "source": [
    "#save date into new file\n",
    "ds.to_csv(\"Product_data_cleaning.csv\")"
   ]
  },
  {
   "cell_type": "code",
   "execution_count": null,
   "id": "870346b5-ee88-4b8b-a663-5e98eb2c11c3",
   "metadata": {},
   "outputs": [],
   "source": []
  }
 ],
 "metadata": {
  "kernelspec": {
   "display_name": "Python 3 (ipykernel)",
   "language": "python",
   "name": "python3"
  },
  "language_info": {
   "codemirror_mode": {
    "name": "ipython",
    "version": 3
   },
   "file_extension": ".py",
   "mimetype": "text/x-python",
   "name": "python",
   "nbconvert_exporter": "python",
   "pygments_lexer": "ipython3",
   "version": "3.13.3"
  }
 },
 "nbformat": 4,
 "nbformat_minor": 5
}
